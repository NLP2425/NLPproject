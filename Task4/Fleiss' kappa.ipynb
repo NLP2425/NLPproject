{
 "cells": [
  {
   "cell_type": "code",
   "execution_count": 4,
   "id": "1238b855",
   "metadata": {},
   "outputs": [
    {
     "name": "stdout",
     "output_type": "stream",
     "text": [
      "Fleiss' kappa before aggregation: 0.908\n",
      "Fleiss' kappa after aggregation: 0.931\n"
     ]
    }
   ],
   "source": [
    "import pandas as pd\n",
    "from nltk import agreement\n",
    "\n",
    "df = pd.read_csv('final corpus with anotators.csv', sep=';')\n",
    "\n",
    "annotator_cols_before = [\n",
    "    'Anotator 1 (Ivan Carević)',\n",
    "    'Anotator 2 (Ema Grahovac)',\n",
    "    'Anotator 3 (Nikolina Pastorčić)'\n",
    "]\n",
    "\n",
    "aggregated_col = 'Label (Josipa Bebić)'\n",
    "\n",
    "relevant_cols_before = annotator_cols_before\n",
    "relevant_cols_after = annotator_cols_before + [aggregated_col]\n",
    "\n",
    "df_before = df.dropna(subset=relevant_cols_before).copy()\n",
    "df_after = df.dropna(subset=relevant_cols_after).copy()\n",
    "\n",
    "for col in relevant_cols_after:\n",
    "    df_after[col] = pd.to_numeric(df_after[col], errors='coerce')\n",
    "for col in relevant_cols_before:\n",
    "    df_before[col] = pd.to_numeric(df_before[col], errors='coerce')\n",
    "\n",
    "df_before = df_before.dropna(subset=relevant_cols_before)\n",
    "df_after = df_after.dropna(subset=relevant_cols_after)\n",
    "\n",
    "taskdata_before = []\n",
    "for annotator_id, col in enumerate(annotator_cols_before):\n",
    "    for item_id, label in enumerate(df_before[col]):\n",
    "        taskdata_before.append([str(annotator_id), str(item_id), str(int(label))])\n",
    "\n",
    "ratingtask_before = agreement.AnnotationTask(data=taskdata_before)\n",
    "fleiss_before = ratingtask_before.multi_kappa()\n",
    "\n",
    "taskdata_after = []\n",
    "for annotator_id, col in enumerate(relevant_cols_after):\n",
    "    for item_id, label in enumerate(df_after[col]):\n",
    "        taskdata_after.append([str(annotator_id), str(item_id), str(int(label))])\n",
    "\n",
    "ratingtask_after = agreement.AnnotationTask(data=taskdata_after)\n",
    "fleiss_after = ratingtask_after.multi_kappa()\n",
    "print(f'Fleiss\\' kappa before aggregation: {fleiss_before:.3f}')\n",
    "print(f'Fleiss\\' kappa after aggregation: {fleiss_after:.3f}')"
   ]
  },
  {
   "cell_type": "code",
   "execution_count": null,
   "id": "98fbb1ca",
   "metadata": {},
   "outputs": [],
   "source": []
  }
 ],
 "metadata": {
  "kernelspec": {
   "display_name": "Python 3",
   "language": "python",
   "name": "python3"
  },
  "language_info": {
   "codemirror_mode": {
    "name": "ipython",
    "version": 3
   },
   "file_extension": ".py",
   "mimetype": "text/x-python",
   "name": "python",
   "nbconvert_exporter": "python",
   "pygments_lexer": "ipython3",
   "version": "3.9.6"
  }
 },
 "nbformat": 4,
 "nbformat_minor": 5
}
